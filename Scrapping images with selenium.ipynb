{
 "cells": [
  {
   "cell_type": "code",
   "execution_count": 4,
   "metadata": {},
   "outputs": [],
   "source": [
    "from selenium import webdriver\n",
    "import os\n",
    "import selenium\n",
    "import time\n",
    "from PIL import Image\n",
    "import io\n",
    "import requests "
   ]
  },
  {
   "cell_type": "code",
   "execution_count": 6,
   "metadata": {},
   "outputs": [],
   "source": [
    "DRIVER_PATH = \"webdriver\\geckodriver-v0.30.0-win64\\geckodriver.exe\""
   ]
  },
  {
   "cell_type": "code",
   "execution_count": 27,
   "metadata": {},
   "outputs": [],
   "source": [
    "def scroll_to_end(driver):\n",
    "    driver.execute_script(\"window.scrollTo(0, document.body.scrollHeight);\")\n",
    "    time.sleep(2)\n",
    "def image_url_function(string, max_links, driver):\n",
    "    search_url = \"https://www.google.com/search?safe=off&site=&tbm=isch&source=hp&q={q}&oq={q}&gs_l=img\"\n",
    "    driver.get(search_url.format(q=string))\n",
    "    image_urls = set()\n",
    "    image_count = 0\n",
    "    results_start = 0\n",
    "\n",
    "    while image_count < max_links:\n",
    "        scroll_to_end(driver)\n",
    "        thumbnail_results = driver.find_elements_by_css_selector(\"img.Q4LuWd\")\n",
    "        number_results = len(thumbnail_results)\n",
    "        print(f\"Found: {number_results} search results. Extracting links from {results_start}:{number_results}\")\n",
    "\n",
    "        for img in thumbnail_results[results_start:number_results]:\n",
    "            try:\n",
    "                img.click()\n",
    "                time.sleep(1)\n",
    "            except Exception:\n",
    "                continue\n",
    "            \n",
    "            actual_images = driver.find_elements_by_css_selector(\"img.n3VNCb\")\n",
    "            for actual_image in actual_images:\n",
    "                if actual_image.get_attribute(\"src\") and \"http\" in actual_image.get_attribute(\"src\"):\n",
    "                    image_urls.add(actual_image.get_attribute(\"src\"))\n",
    "            \n",
    "            image_count = len(image_urls)\n",
    "            if image_count >= max_links:\n",
    "                print(f\"Found: {image_count} image links\")\n",
    "                break\n",
    "        else:\n",
    "            print(\"Found:\", image_count, \"looking for more image links ...\")\n",
    "            time.sleep(30)\n",
    "            return\n",
    "            \n",
    "            load_more_button = driver.find_element_by_css_selector(\".mye4qd\")\n",
    "            \n",
    "            if load_more_button:\n",
    "                driver.execute_script(\"document.querySelector('.mye4qd').click();\")\n",
    "\n",
    "        results_start = len(thumbnail_results)\n",
    "\n",
    "    return image_urls\n",
    "\n",
    "def save_images(folder_path,file_name,url):\n",
    "    try:\n",
    "        image_content = requests.get(url).content\n",
    "\n",
    "    except Exception as e:\n",
    "        print(f\"ERROR - COULD NOT DOWNLOAD {url} - {e}\")\n",
    "\n",
    "    try:\n",
    "        image_file = io.BytesIO(image_content)\n",
    "        image = Image.open(image_file).convert('RGB')\n",
    "        \n",
    "        file_path = os.path.join(folder_path, file_name)\n",
    "        \n",
    "        with open(file_path, 'wb') as f:\n",
    "            image.save(f, \"JPEG\", quality=85)\n",
    "        print(f\"SAVED - {url} - AT: {file_path}\")\n",
    "    except Exception as e:\n",
    "        print(f\"ERROR - COULD NOT SAVE {url} - {e}\")\n",
    "\n",
    "\n"
   ]
  },
  {
   "cell_type": "code",
   "execution_count": 31,
   "metadata": {},
   "outputs": [],
   "source": [
    "driver = webdriver.Firefox(executable_path=DRIVER_PATH)\n",
    "search_names = [\"goku\", \"vegeta\"]\n",
    "images_path = f'img'\n",
    "\n",
    "for name in search_names:\n",
    "    if not os.path.isdir(images_path):\n",
    "        os.mkdir(images_path)\n",
    "    path = os.path.join(images_path,name)\n",
    "    if not os.path.isdir(path):\n",
    "        os.mkdir(path)\n",
    "\n",
    "    driver.get('https://google.com')\n",
    "    search_box = driver.find_element_by_css_selector('input.gLFyf')\n",
    "    search_box.send_keys(name)\n",
    "    links = image_url_function(name,20,driver)\n",
    "\n",
    "    for i, link in enumerate(links):\n",
    "        file_name = f\"{i:06}.jpg\"\n",
    "        save_images(path,file_name,link)\n",
    "driver.quit()"
   ]
  },
  {
   "cell_type": "code",
   "execution_count": null,
   "metadata": {},
   "outputs": [],
   "source": []
  }
 ],
 "metadata": {
  "interpreter": {
   "hash": "91070269608a85bc06ba34e38fc4f1d381ad2cf152d98ac364a8826fda705973"
  },
  "kernelspec": {
   "display_name": "Python 3.9.0 ('scrapping')",
   "language": "python",
   "name": "python3"
  },
  "language_info": {
   "codemirror_mode": {
    "name": "ipython",
    "version": 3
   },
   "file_extension": ".py",
   "mimetype": "text/x-python",
   "name": "python",
   "nbconvert_exporter": "python",
   "pygments_lexer": "ipython3",
   "version": "3.9.0"
  },
  "orig_nbformat": 4
 },
 "nbformat": 4,
 "nbformat_minor": 2
}
